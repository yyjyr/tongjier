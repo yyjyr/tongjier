{
 "cells": [
  {
   "cell_type": "code",
   "execution_count": 2,
   "metadata": {},
   "outputs": [],
   "source": [
    "import numpy as np\n",
    "import pandas as pd\n",
    "import matplotlib.pyplot as plt\n",
    "from sklearn.datasets import load_iris\n",
    "from sklearn.model_selection import train_test_split\n",
    "from scipy.stats import multivariate_normal"
   ]
  },
  {
   "cell_type": "code",
   "execution_count": 3,
   "metadata": {},
   "outputs": [],
   "source": [
    "def create_data():\n",
    "    iris = load_iris()\n",
    "    df = pd.DataFrame(iris.data, columns=iris.feature_names)\n",
    "    df['label'] = iris.target\n",
    "    df.columns = ['sepal length', 'sepal width', 'petal length', 'petal width', 'label']\n",
    "    data = np.array(df.iloc[:150, [0, 1, 2,-1]])\n",
    "    return data[:,:3], data[:,-1]"
   ]
  },
  {
   "cell_type": "code",
   "execution_count": 4,
   "metadata": {},
   "outputs": [],
   "source": [
    "X, y = create_data()"
   ]
  },
  {
   "cell_type": "code",
   "execution_count": 5,
   "metadata": {},
   "outputs": [],
   "source": [
    "X_train, X_test, y_train, y_test = train_test_split(X, y,  test_size=0.2, random_state=42)"
   ]
  },
  {
   "cell_type": "code",
   "execution_count": 6,
   "metadata": {},
   "outputs": [],
   "source": [
    "p_y1 = np.sum(y_train ==1 )/y_train.shape[0]\n",
    "p_y2 = np.sum(y_train ==2 )/y_train.shape[0]\n",
    "p_y0 = 1-p_y1-p_y2"
   ]
  },
  {
   "cell_type": "code",
   "execution_count": 7,
   "metadata": {},
   "outputs": [],
   "source": [
    "X_son = X_train[np.where(y_train==0)[0]]"
   ]
  },
  {
   "cell_type": "code",
   "execution_count": 8,
   "metadata": {},
   "outputs": [
    {
     "name": "stdout",
     "output_type": "stream",
     "text": [
      "[[4.6 3.6 1. ]\n",
      " [5.7 4.4 1.5]\n",
      " [4.8 3.4 1.6]\n",
      " [4.4 3.2 1.3]\n",
      " [5.2 3.5 1.5]\n",
      " [5.  3.6 1.4]\n",
      " [5.2 4.1 1.5]\n",
      " [5.4 3.9 1.3]\n",
      " [5.4 3.7 1.5]\n",
      " [5.1 3.5 1.4]\n",
      " [5.2 3.4 1.4]\n",
      " [5.  3.5 1.3]\n",
      " [5.1 3.8 1.9]\n",
      " [4.8 3.4 1.9]\n",
      " [5.  3.  1.6]\n",
      " [5.1 3.3 1.7]\n",
      " [5.1 3.4 1.5]\n",
      " [4.6 3.2 1.4]\n",
      " [5.5 4.2 1.4]\n",
      " [5.4 3.9 1.7]\n",
      " [5.  3.3 1.4]\n",
      " [5.  3.2 1.2]\n",
      " [4.9 3.1 1.5]\n",
      " [5.  3.4 1.5]\n",
      " [5.  3.5 1.6]\n",
      " [4.4 2.9 1.4]\n",
      " [4.3 3.  1.1]\n",
      " [4.6 3.1 1.5]\n",
      " [5.1 3.5 1.4]\n",
      " [4.4 3.  1.3]\n",
      " [4.6 3.4 1.4]\n",
      " [4.7 3.2 1.3]\n",
      " [5.1 3.8 1.6]\n",
      " [4.5 2.3 1.3]\n",
      " [5.3 3.7 1.5]\n",
      " [5.1 3.7 1.5]\n",
      " [4.9 3.1 1.5]\n",
      " [4.9 3.  1.4]\n",
      " [5.4 3.4 1.7]\n",
      " [5.8 4.  1.2]]\n"
     ]
    }
   ],
   "source": [
    "print(X_son)"
   ]
  },
  {
   "cell_type": "code",
   "execution_count": 9,
   "metadata": {},
   "outputs": [
    {
     "data": {
      "text/plain": [
       "array([4.99  , 3.44  , 1.4525])"
      ]
     },
     "execution_count": 9,
     "metadata": {},
     "output_type": "execute_result"
    }
   ],
   "source": [
    "mu_0 = np.mean(X_son,axis=0)\n",
    "mu_0"
   ]
  },
  {
   "cell_type": "code",
   "execution_count": 10,
   "metadata": {},
   "outputs": [
    {
     "data": {
      "text/plain": [
       "array([0.1239    , 0.1549    , 0.03299375])"
      ]
     },
     "execution_count": 10,
     "metadata": {},
     "output_type": "execute_result"
    }
   ],
   "source": [
    "sigma_0 = np.var(X_son,axis=0)\n",
    "sigma_0"
   ]
  },
  {
   "cell_type": "code",
   "execution_count": 11,
   "metadata": {},
   "outputs": [],
   "source": [
    "P_X0 = multivariate_normal.pdf(X_test,mean=mu_0,cov=sigma_0)*p_y0"
   ]
  },
  {
   "cell_type": "code",
   "execution_count": 12,
   "metadata": {},
   "outputs": [
    {
     "data": {
      "text/plain": [
       "array([6.04542330e-073, 2.86094444e-002, 5.72427122e-210, 4.02218912e-064,\n",
       "       7.22160750e-081, 4.10324212e-001, 3.24931405e-032, 6.42103952e-095,\n",
       "       1.20114984e-066, 3.82496601e-042, 1.93406387e-092, 3.73270511e-001,\n",
       "       2.04584806e-001, 5.41666376e-001, 5.09442899e-001, 3.01919472e-073,\n",
       "       1.83081574e-129, 4.06764596e-042, 2.20488373e-063, 4.50312620e-118,\n",
       "       3.57687022e-001, 1.86915106e-081, 6.01485962e-001, 4.50312620e-118,\n",
       "       6.34503586e-177, 1.25935929e-098, 1.46787881e-131, 8.30437878e-137,\n",
       "       3.73270511e-001, 3.60014895e-001])"
      ]
     },
     "execution_count": 12,
     "metadata": {},
     "output_type": "execute_result"
    }
   ],
   "source": [
    "P_X0"
   ]
  },
  {
   "cell_type": "code",
   "execution_count": 13,
   "metadata": {},
   "outputs": [],
   "source": [
    "X_son_1 = X_train[np.where(y_train==1)[0]]"
   ]
  },
  {
   "cell_type": "code",
   "execution_count": 14,
   "metadata": {},
   "outputs": [],
   "source": [
    "X_son_2 = X_train[np.where(y_train==2)[0]]"
   ]
  },
  {
   "cell_type": "code",
   "execution_count": 15,
   "metadata": {},
   "outputs": [],
   "source": [
    "mu_1 = np.mean(X_son_1,axis=0)"
   ]
  },
  {
   "cell_type": "code",
   "execution_count": 16,
   "metadata": {},
   "outputs": [],
   "source": [
    "mu_2 = np.mean(X_son_2,axis=0)"
   ]
  },
  {
   "cell_type": "code",
   "execution_count": 17,
   "metadata": {},
   "outputs": [],
   "source": [
    "sigma_1 = np.var(X_son_1,axis=0)"
   ]
  },
  {
   "cell_type": "code",
   "execution_count": 18,
   "metadata": {},
   "outputs": [],
   "source": [
    "sigma_2 = np.var(X_son_2,axis=0)"
   ]
  },
  {
   "cell_type": "code",
   "execution_count": 19,
   "metadata": {},
   "outputs": [],
   "source": [
    "P_X1 = multivariate_normal.pdf(X_test,mean=mu_1,cov=sigma_1)*p_y1"
   ]
  },
  {
   "cell_type": "code",
   "execution_count": 20,
   "metadata": {},
   "outputs": [
    {
     "data": {
      "text/plain": [
       "array([1.59077128e-01, 7.68652395e-10, 1.48678722e-10, 2.11283877e-01,\n",
       "       3.48152531e-02, 1.38328819e-09, 8.33958871e-02, 5.73972806e-03,\n",
       "       3.98098132e-02, 1.97929773e-01, 1.16653561e-02, 4.02453339e-10,\n",
       "       6.67567717e-11, 1.52142698e-09, 2.50054450e-11, 3.24338233e-02,\n",
       "       5.31793391e-04, 1.20765488e-01, 2.12661088e-01, 3.01395690e-03,\n",
       "       1.57185683e-09, 7.49284252e-02, 1.67060185e-09, 3.01395690e-03,\n",
       "       4.83423930e-11, 9.37246101e-03, 2.98391676e-04, 6.29609697e-05,\n",
       "       4.02453339e-10, 3.45098998e-09])"
      ]
     },
     "execution_count": 20,
     "metadata": {},
     "output_type": "execute_result"
    }
   ],
   "source": [
    "P_X1"
   ]
  },
  {
   "cell_type": "code",
   "execution_count": 21,
   "metadata": {},
   "outputs": [],
   "source": [
    "P_X2 = multivariate_normal.pdf(X_test,mean=mu_2,cov=sigma_2)*p_y2"
   ]
  },
  {
   "cell_type": "code",
   "execution_count": 22,
   "metadata": {},
   "outputs": [
    {
     "data": {
      "text/plain": [
       "array([4.05777134e-02, 2.00908322e-14, 6.73740180e-04, 2.13393116e-02,\n",
       "       6.11242982e-02, 8.19162427e-15, 1.02755355e-04, 1.08453769e-01,\n",
       "       1.38650101e-03, 7.02849215e-04, 1.05788627e-01, 6.41133365e-16,\n",
       "       3.64764330e-16, 3.66966070e-15, 2.52523797e-16, 3.12804465e-02,\n",
       "       1.64539982e-01, 2.24843620e-04, 1.15973617e-02, 1.59860170e-01,\n",
       "       5.32601251e-15, 7.68632263e-02, 9.13796497e-15, 1.59860170e-01,\n",
       "       1.57127015e-04, 1.52638585e-01, 5.34354623e-02, 1.03013280e-01,\n",
       "       6.41133365e-16, 9.83162709e-15])"
      ]
     },
     "execution_count": 22,
     "metadata": {},
     "output_type": "execute_result"
    }
   ],
   "source": [
    "P_X2"
   ]
  },
  {
   "cell_type": "code",
   "execution_count": 23,
   "metadata": {},
   "outputs": [
    {
     "data": {
      "text/plain": [
       "array([[6.04542330e-073, 2.86094444e-002, 5.72427122e-210,\n",
       "        4.02218912e-064, 7.22160750e-081, 4.10324212e-001,\n",
       "        3.24931405e-032, 6.42103952e-095, 1.20114984e-066,\n",
       "        3.82496601e-042, 1.93406387e-092, 3.73270511e-001,\n",
       "        2.04584806e-001, 5.41666376e-001, 5.09442899e-001,\n",
       "        3.01919472e-073, 1.83081574e-129, 4.06764596e-042,\n",
       "        2.20488373e-063, 4.50312620e-118, 3.57687022e-001,\n",
       "        1.86915106e-081, 6.01485962e-001, 4.50312620e-118,\n",
       "        6.34503586e-177, 1.25935929e-098, 1.46787881e-131,\n",
       "        8.30437878e-137, 3.73270511e-001, 3.60014895e-001],\n",
       "       [1.59077128e-001, 7.68652395e-010, 1.48678722e-010,\n",
       "        2.11283877e-001, 3.48152531e-002, 1.38328819e-009,\n",
       "        8.33958871e-002, 5.73972806e-003, 3.98098132e-002,\n",
       "        1.97929773e-001, 1.16653561e-002, 4.02453339e-010,\n",
       "        6.67567717e-011, 1.52142698e-009, 2.50054450e-011,\n",
       "        3.24338233e-002, 5.31793391e-004, 1.20765488e-001,\n",
       "        2.12661088e-001, 3.01395690e-003, 1.57185683e-009,\n",
       "        7.49284252e-002, 1.67060185e-009, 3.01395690e-003,\n",
       "        4.83423930e-011, 9.37246101e-003, 2.98391676e-004,\n",
       "        6.29609697e-005, 4.02453339e-010, 3.45098998e-009],\n",
       "       [4.05777134e-002, 2.00908322e-014, 6.73740180e-004,\n",
       "        2.13393116e-002, 6.11242982e-002, 8.19162427e-015,\n",
       "        1.02755355e-004, 1.08453769e-001, 1.38650101e-003,\n",
       "        7.02849215e-004, 1.05788627e-001, 6.41133365e-016,\n",
       "        3.64764330e-016, 3.66966070e-015, 2.52523797e-016,\n",
       "        3.12804465e-002, 1.64539982e-001, 2.24843620e-004,\n",
       "        1.15973617e-002, 1.59860170e-001, 5.32601251e-015,\n",
       "        7.68632263e-002, 9.13796497e-015, 1.59860170e-001,\n",
       "        1.57127015e-004, 1.52638585e-001, 5.34354623e-002,\n",
       "        1.03013280e-001, 6.41133365e-016, 9.83162709e-015]])"
      ]
     },
     "execution_count": 23,
     "metadata": {},
     "output_type": "execute_result"
    }
   ],
   "source": [
    "a = np.vstack((P_X0,P_X1,P_X2))\n",
    "a"
   ]
  },
  {
   "cell_type": "code",
   "execution_count": 24,
   "metadata": {},
   "outputs": [
    {
     "data": {
      "text/plain": [
       "array([1, 0, 2, 1, 2, 0, 1, 2, 1, 1, 2, 0, 0, 0, 0, 1, 2, 1, 1, 2, 0, 2,\n",
       "       0, 2, 2, 2, 2, 2, 0, 0], dtype=int32)"
      ]
     },
     "execution_count": 24,
     "metadata": {},
     "output_type": "execute_result"
    }
   ],
   "source": [
    "np.argmax(a,axis=0)"
   ]
  },
  {
   "cell_type": "code",
   "execution_count": 25,
   "metadata": {},
   "outputs": [
    {
     "data": {
      "text/plain": [
       "array([1., 0., 2., 1., 1., 0., 1., 2., 1., 1., 2., 0., 0., 0., 0., 1., 2.,\n",
       "       1., 1., 2., 0., 2., 0., 2., 2., 2., 2., 2., 0., 0.])"
      ]
     },
     "execution_count": 25,
     "metadata": {},
     "output_type": "execute_result"
    }
   ],
   "source": [
    "y_test"
   ]
  },
  {
   "cell_type": "code",
   "execution_count": 26,
   "metadata": {},
   "outputs": [],
   "source": [
    "from sklearn.model_selection import train_test_split\n",
    "X_train,X_test,y_train,y_test = train_test_split(X,y,test_size = 0.2,random_state=0)"
   ]
  },
  {
   "cell_type": "code",
   "execution_count": 27,
   "metadata": {},
   "outputs": [
    {
     "data": {
      "text/plain": [
       "MultinomialNB(alpha=1.0, class_prior=None, fit_prior=True)"
      ]
     },
     "execution_count": 27,
     "metadata": {},
     "output_type": "execute_result"
    }
   ],
   "source": [
    "from sklearn.naive_bayes import MultinomialNB\n",
    "clf = MultinomialNB()\n",
    "clf.fit(X_train, y_train)\n",
    "MultinomialNB(alpha=1.0, class_prior=None, fit_prior=True)"
   ]
  },
  {
   "cell_type": "code",
   "execution_count": 28,
   "metadata": {},
   "outputs": [
    {
     "data": {
      "text/plain": [
       "0.6916666666666667"
      ]
     },
     "execution_count": 28,
     "metadata": {},
     "output_type": "execute_result"
    }
   ],
   "source": [
    "clf.score(X_train, y_train)"
   ]
  },
  {
   "cell_type": "code",
   "execution_count": 29,
   "metadata": {},
   "outputs": [
    {
     "data": {
      "text/plain": [
       "0.5666666666666667"
      ]
     },
     "execution_count": 29,
     "metadata": {},
     "output_type": "execute_result"
    }
   ],
   "source": [
    "clf.score(X_test, y_test)"
   ]
  },
  {
   "cell_type": "code",
   "execution_count": null,
   "metadata": {},
   "outputs": [],
   "source": []
  }
 ],
 "metadata": {
  "kernelspec": {
   "display_name": "Python 3",
   "language": "python",
   "name": "python3"
  },
  "language_info": {
   "codemirror_mode": {
    "name": "ipython",
    "version": 3
   },
   "file_extension": ".py",
   "mimetype": "text/x-python",
   "name": "python",
   "nbconvert_exporter": "python",
   "pygments_lexer": "ipython3",
   "version": "3.6.4"
  }
 },
 "nbformat": 4,
 "nbformat_minor": 2
}
