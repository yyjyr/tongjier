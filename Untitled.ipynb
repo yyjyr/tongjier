{
 "cells": [
  {
   "cell_type": "code",
   "execution_count": null,
   "metadata": {},
   "outputs": [],
   "source": [
    "url=['http://www.17k.com/book/2505026.html','http://www.17k.com/book/2797016.html']\n",
    "file='C:\\Users\\Administrator\\Desktop\\abcd.txt'\n",
    "with open('C:/Users/Administrator/Desktop/test.jpg','wb')as f:\n",
    "    for i in range(2):\n",
    "        b=requests.get(url[2],headers = header)\n",
    "        f.write(b.text)"
   ]
  }
 ],
 "metadata": {
  "kernelspec": {
   "display_name": "Python 3",
   "language": "python",
   "name": "python3"
  },
  "language_info": {
   "codemirror_mode": {
    "name": "ipython",
    "version": 3
   },
   "file_extension": ".py",
   "mimetype": "text/x-python",
   "name": "python",
   "nbconvert_exporter": "python",
   "pygments_lexer": "ipython3",
   "version": "3.6.4"
  }
 },
 "nbformat": 4,
 "nbformat_minor": 2
}
