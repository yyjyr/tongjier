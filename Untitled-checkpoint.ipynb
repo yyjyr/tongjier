{
 "cells": [
  {
   "cell_type": "code",
   "execution_count": 1,
   "metadata": {},
   "outputs": [
    {
     "name": "stdout",
     "output_type": "stream",
     "text": [
      "['https://www.baidu.com/', 'http://tieba.baidu.com/', 'https://zhidao.baidu.com/', 'http://music.baidu.com/', 'http://image.baidu.com/', 'http://v.baidu.com/', 'http://map.baidu.com/', 'http://wenku.baidu.com/', 'http://news.baidu.com/', '//help.baidu.com', '//news.baidu.com/z/resource/pc/staticpage/advanced_news.html', '//news.baidu.com/z/resource/pc/staticpage/pianhao.html', '/', '/guonei', '/guoji', '/mil', '/finance', '/ent', '/sports', '/internet', '/tech', '/game', '/lady', '/auto', '/house', 'http://jian.news.baidu.com/', '/', '/guonei', '/guoji', '/mil', '/finance', '/ent', '/sports', '/internet', '/tech', '/game', '/lady', '/auto', '/house', 'http://jian.news.baidu.com/', 'javascript:void(0);', 'http://www.xinhuanet.com/politics/2018-06/12/c_1122970473.htm', 'http://news.cctv.com/2018/06/12/ARTIlLgRn6J0VCdtHv0eMRLF180612.shtml', 'http://news.cctv.com/2018/06/11/ARTITt8EVJVNebf5xrG0HXpH180611.shtml', 'http://politics.people.com.cn/n1/2018/0611/c1001-30050901.html', 'http://opinion.people.com.cn/n1/2018/0611/c1003-30050967.html', 'http://world.people.com.cn/n1/2018/0610/c1002-30048496.html', 'http://china.chinadaily.com.cn/2018-06/10/content_36362219.htm', 'http://politics.people.com.cn/n1/2018/0610/c1024-30048459.html', 'http://kuaibao.qq.com/s/20180611A03B3200?refer=', 'http://www.chinanews.com/gn/2018/06-11/8535035.shtml', 'http://www.chinanews.com/gn/2018/06-11/8535032.shtml', 'http://xuexi.cctv.com/2018/06/11/ARTIL1mNfbI9ssCIUR75nc8z180611.shtml', 'http://news.youth.cn/sz/201806/t20180611_11641172.htm', 'http://news.youth.cn/tbxw/201806/t20180610_11640631.htm', 'https://3w.huanqiu.com/a/a-XDI1287DFA01EED6AE2899?agt=8', 'http://d.news.ifeng.com/pc/special/102607/index.shtml', 'https://3w.huanqiu.com/a/a-XDI128B770F880B5679250?agt=8', 'http://xinwen.eastday.com/a/xjump.html?id=180612103348603', 'http://xinwen.eastday.com/a/xjump.html?id=180612065219999', 'http://news.ifeng.com/a/20180611/58675095_0.shtml?_zbs_baidu_news', 'http://xinwen.eastday.com/a/xjump.html?id=n180612072615108', 'http://news.ifeng.com/a/20180612/58679729_0.shtml?_zbs_baidu_news', 'http://xinwen.eastday.com/a/xjump.html?id=180612072040846', 'https://3w.huanqiu.com/a/a-XDI128539FF6CA43F6489F?agt=8', 'http://news.youth.cn/gn/201806/t20180612_11642033.htm', 'https://3w.huanqiu.com/a/a-XDI1282B0C4E922E61FC68?agt=8', 'http://xinwen.eastday.com/a/xjump.html?id=180612050337309', 'http://xinwen.eastday.com/a/xjump.html?id=180612085821125', 'https://3w.huanqiu.com/a/a-XDI12813435326598108FE?agt=8', 'http://news.ifeng.com/a/20180612/58682631_0.shtml?_zbs_baidu_news', 'http://news.ifeng.com/a/20180612/58679805_0.shtml?_zbs_baidu_news', 'http://news.ifeng.com/a/20180612/58679789_0.shtml?_zbs_baidu_news', 'http://xinwen.eastday.com/a/xjump.html?id=180612000558295', 'http://news.ifeng.com/a/20180612/58679778_0.shtml?_zbs_baidu_news', 'https://3w.huanqiu.com/a/a-XDI128985A5D11DBB06BC0?agt=8', 'https://3w.huanqiu.com/a/a-XDI1289402EE32E71BE11B?agt=8', 'https://3w.huanqiu.com/a/a-XDI1282EE2A0D1B3BE03BE?agt=8', 'http://news.ifeng.com/a/20180612/58678191_0.shtml?_zbs_baidu_news', 'http://xinwen.eastday.com/a/xjump.html?id=n180612084845479', 'http://xinwen.eastday.com/a/xjump.html?id=180612093256316', 'http://news.ifeng.com/a/20180612/58680360_0.shtml?_zbs_baidu_news', 'https://3w.huanqiu.com/a/a-XDI128F30CCE63AF37BC53?agt=8', 'https://3w.huanqiu.com/a/a-XDI1284F213B8AA2C0A2AB?agt=', 'http://xinwen.eastday.com/a/xjump.html?id=180612105124855', 'javascript:void(0);', 'javascript:void(0);', 'javascript:void(0);', 'javascript:void(0);', 'javascript:void(0);', 'https://www.baidu.com/s?wd=%E4%B9%A0%E8%BF%91%E5%B9%B3%E4%B8%BB%E6%8C%81%E4%B8%8A%E5%90%88%E7%BB%84%E7%BB%87%E9%9D%92%E5%B2%9B%E5%B3%B0%E4%BC%9A%E5%B9%B6%E5%8F%91%E8%A1%A8%E9%87%8D%E8%A6%81%E8%AE%B2%E8%AF%9D', 'https://www.baidu.com/s?wd=%E4%B9%A0%E8%BF%91%E5%B9%B3%EF%BC%9A%E4%B8%8A%E5%90%88%E7%BB%84%E7%BB%87%E7%9A%84%E6%98%8E%E5%A4%A9%E4%B8%80%E5%AE%9A%E4%BC%9A%E6%9B%B4%E5%8A%A0%E7%BE%8E%E5%A5%BD%EF%BC%81', 'https://www.baidu.com/s?wd=%E5%9B%BD%E4%BC%81%E5%B7%A5%E8%B5%84%E6%94%B9%E9%9D%A92019%E5%B9%B4%E5%B0%86%E5%85%A8%E9%9D%A2%E5%AE%9E%E6%96%BD', 'https://www.baidu.com/s?wd=%E6%B7%B1%E5%85%A5%E6%8E%A8%E8%BF%9B%E5%86%9B%E9%98%9F%E5%85%A8%E9%9D%A2%E5%81%9C%E6%AD%A2%E6%9C%89%E5%81%BF%E6%9C%8D%E5%8A%A1%E5%B7%A5%E4%BD%9C%E6%8C%87%E5%AF%BC%E6%84%8F%E8%A7%81', 'https://www.baidu.com/s?wd=%E5%8D%8F%E8%AD%A6%E8%A2%AB%E8%B5%9E%E4%B8%BA%E6%9C%80%E5%B8%85%E6%91%86%E6%B8%A1%E4%BA%BA', 'https://www.baidu.com/s?wd=%E6%B5%B7%E5%85%B3%E7%BD%9A%E6%B2%A1%E6%96%87%E7%89%A9%E4%BA%AE%E7%9B%B8', 'https://www.baidu.com/s?wd=%E5%A4%96%E5%AA%92%E5%85%B3%E6%B3%A8%E4%B8%AD%E5%9B%BD%E7%A7%8D%E6%A4%8D%E6%B5%B7%E6%B0%B4%E7%A8%BB%E8%8E%B7%E7%AA%81%E7%A0%B4', 'https://www.baidu.com/s?wd=%E4%B8%9C%E9%A3%8E-41%E2%80%9C%E4%B8%96%E7%95%8C%E7%AC%AC%E4%B8%80%E2%80%9D', 'https://www.baidu.com/s?wd=%E4%B8%8A%E6%B5%B7%E8%87%B3%E6%9D%AD%E5%B7%9E%E6%88%96%E5%BB%BA%E8%B6%85%E7%BA%A7%E9%AB%98%E9%93%81', 'https://www.baidu.com/s?wd=16%E4%B8%87%E7%BD%91%E5%8F%8B%E8%B5%9E%E8%BF%99%E5%8F%AA%E6%89%8B', 'http://baijiahao.baidu.com/s?id=1602963493954404485', 'http://baijiahao.baidu.com/s?id=1602963493954404485', 'http://baijiahao.baidu.com/s?id=1602883350886528624', 'http://baijiahao.baidu.com/s?id=1602883350886528624', 'http://baijiahao.baidu.com/s?id=1602949643058437801', 'http://baijiahao.baidu.com/s?id=1602949643058437801', 'https://baijia.baidu.com/s?id=1602953832753200161', '', 'https://baijia.baidu.com/s?id=1602951705810857104', '', 'https://baijia.baidu.com/s?id=1602948213149828621', '', 'https://baijia.baidu.com/s?id=1602945474561499190', '', 'https://baijia.baidu.com/s?id=1602389219479157498', '', 'https://baijia.baidu.com/s?id=1602383703655858374', '', 'https://baijia.baidu.com/s?id=1602377057767465925', '', 'https://baijia.baidu.com/s?id=1602372291058714542', '', 'https://baijia.baidu.com/s?id=1602359805257179181', '', 'https://baijia.baidu.com/s?id=1602342623196391647', '', 'http://baijiahao.baidu.com/s?id=1602927794420720574', 'http://baijiahao.baidu.com/s?id=1602927794420720574', 'javascript:void(0);', 'javascript:void(0);', 'https://baijia.baidu.com/s?id=1602948213149828621', 'https://baijia.baidu.com/u?app_id=1536766821008995', 'https://baijia.baidu.com/s?id=1602945474561499190', 'https://baijia.baidu.com/u?app_id=1536766231434959', 'https://baijia.baidu.com/s?id=1602951705810857104', 'https://baijia.baidu.com/u?app_id=1556018077895386', 'https://baijia.baidu.com/s?id=1602953832753200161', 'https://baijia.baidu.com/u?app_id=1536766231434959', 'https://baijia.baidu.com/s?id=1602937948300904316', 'https://baijia.baidu.com/u?app_id=1536766209631977', 'https://baijia.baidu.com/s?id=1602948213149828621', 'https://baijia.baidu.com/u?app_id=1536766821008995', 'https://baijia.baidu.com/s?id=1602945474561499190', 'https://baijia.baidu.com/u?app_id=1536766231434959', 'https://baijia.baidu.com/s?id=1602951705810857104', 'https://baijia.baidu.com/u?app_id=1556018077895386', 'https://baijia.baidu.com/s?id=1602953832753200161', 'https://baijia.baidu.com/u?app_id=1536766231434959', 'https://baijia.baidu.com/s?id=1602937948300904316', 'https://baijia.baidu.com/u?app_id=1536766209631977', '', '', 'http://report.12377.cn:13225/toreportinputNormal_anis.do', 'javascript:void(0);', 'javascript:void(0);', 'javascript:void(0);', 'javascript:void(0);', 'http://downpack.baidu.com/baidunews_AndroidPhone_1014720b.apk', 'https://itunes.apple.com/cn/app/id482820737', 'http://newsalert.baidu.com/na?cmd=0', '//news.baidu.com/z/resource/pc/staticpage/newscode.html', 'https://news.baidu.com/z/resource/wap/protocol/baidu_news_protocol.html', 'https://www.baidu.com/duty/wise/wise_secretright.html', '//help.baidu.com/newadd?prod_id=5&category=1', '//news.baidu.com/licence.html', '#{url}', '#{url}', 'javascript:void(0);', '/sh', '#{url}', '/sh', '#{url}', '#{url}', '#{url}', '#{url}', '#{url}', '#{url}', '#{url}', '#{url}', '#{url}']\n"
     ]
    }
   ],
   "source": [
    "import requests\n",
    "response = requests.get('http://news.baidu.com/')\n",
    "import re\n",
    "a = response.text\n",
    "result = re.findall('<a\\shref=\"(.*?)\"',a)\n",
    "print(result)"
   ]
  },
  {
   "cell_type": "code",
   "execution_count": null,
   "metadata": {},
   "outputs": [],
   "source": []
  }
 ],
 "metadata": {
  "kernelspec": {
   "display_name": "Python 3",
   "language": "python",
   "name": "python3"
  },
  "language_info": {
   "codemirror_mode": {
    "name": "ipython",
    "version": 3
   },
   "file_extension": ".py",
   "mimetype": "text/x-python",
   "name": "python",
   "nbconvert_exporter": "python",
   "pygments_lexer": "ipython3",
   "version": "3.6.4"
  }
 },
 "nbformat": 4,
 "nbformat_minor": 2
}
